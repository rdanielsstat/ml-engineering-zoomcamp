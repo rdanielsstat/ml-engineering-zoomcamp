{
 "cells": [
  {
   "cell_type": "code",
   "execution_count": 1,
   "id": "787b43a3-3f72-4987-978d-60336915215d",
   "metadata": {},
   "outputs": [
    {
     "name": "stdout",
     "output_type": "stream",
     "text": [
      "Numpy version: 2.3.3\n",
      "Pandas version: 2.3.2\n"
     ]
    }
   ],
   "source": [
    "import numpy as np\n",
    "import pandas as pd\n",
    "\n",
    "print(\"Numpy version: \" + str(np.__version__))\n",
    "print(\"Pandas version: \" + str(pd.__version__))"
   ]
  },
  {
   "cell_type": "code",
   "execution_count": 2,
   "id": "10b6fe69-bc57-409c-b9e5-24ae08fd3b4f",
   "metadata": {},
   "outputs": [
    {
     "data": {
      "application/vnd.microsoft.datawrangler.viewer.v0+json": {
       "columns": [
        {
         "name": "index",
         "rawType": "int64",
         "type": "integer"
        },
        {
         "name": "engine_displacement",
         "rawType": "int64",
         "type": "integer"
        },
        {
         "name": "num_cylinders",
         "rawType": "float64",
         "type": "float"
        },
        {
         "name": "horsepower",
         "rawType": "float64",
         "type": "float"
        },
        {
         "name": "vehicle_weight",
         "rawType": "float64",
         "type": "float"
        },
        {
         "name": "acceleration",
         "rawType": "float64",
         "type": "float"
        },
        {
         "name": "model_year",
         "rawType": "int64",
         "type": "integer"
        },
        {
         "name": "origin",
         "rawType": "object",
         "type": "string"
        },
        {
         "name": "fuel_type",
         "rawType": "object",
         "type": "string"
        },
        {
         "name": "drivetrain",
         "rawType": "object",
         "type": "string"
        },
        {
         "name": "num_doors",
         "rawType": "float64",
         "type": "float"
        },
        {
         "name": "fuel_efficiency_mpg",
         "rawType": "float64",
         "type": "float"
        }
       ],
       "ref": "81e9ce0d-cbfc-4acf-87a2-b4b6f898cb5f",
       "rows": [
        [
         "0",
         "170",
         "3.0",
         "159.0",
         "3413.433758606219",
         "17.7",
         "2003",
         "Europe",
         "Gasoline",
         "All-wheel drive",
         "0.0",
         "13.231728906241411"
        ],
        [
         "1",
         "130",
         "5.0",
         "97.0",
         "3149.6649342200353",
         "17.8",
         "2007",
         "USA",
         "Gasoline",
         "Front-wheel drive",
         "0.0",
         "13.688217435463793"
        ],
        [
         "2",
         "170",
         null,
         "78.0",
         "3079.03899736884",
         "15.1",
         "2018",
         "Europe",
         "Gasoline",
         "Front-wheel drive",
         "0.0",
         "14.246340998160866"
        ],
        [
         "3",
         "220",
         "4.0",
         null,
         "2542.392401828378",
         "20.2",
         "2009",
         "USA",
         "Diesel",
         "All-wheel drive",
         "2.0",
         "16.91273559598635"
        ],
        [
         "4",
         "210",
         "1.0",
         "140.0",
         "3460.870989989018",
         "14.4",
         "2009",
         "Europe",
         "Gasoline",
         "All-wheel drive",
         "2.0",
         "12.488369121964562"
        ]
       ],
       "shape": {
        "columns": 11,
        "rows": 5
       }
      },
      "text/html": [
       "<div>\n",
       "<style scoped>\n",
       "    .dataframe tbody tr th:only-of-type {\n",
       "        vertical-align: middle;\n",
       "    }\n",
       "\n",
       "    .dataframe tbody tr th {\n",
       "        vertical-align: top;\n",
       "    }\n",
       "\n",
       "    .dataframe thead th {\n",
       "        text-align: right;\n",
       "    }\n",
       "</style>\n",
       "<table border=\"1\" class=\"dataframe\">\n",
       "  <thead>\n",
       "    <tr style=\"text-align: right;\">\n",
       "      <th></th>\n",
       "      <th>engine_displacement</th>\n",
       "      <th>num_cylinders</th>\n",
       "      <th>horsepower</th>\n",
       "      <th>vehicle_weight</th>\n",
       "      <th>acceleration</th>\n",
       "      <th>model_year</th>\n",
       "      <th>origin</th>\n",
       "      <th>fuel_type</th>\n",
       "      <th>drivetrain</th>\n",
       "      <th>num_doors</th>\n",
       "      <th>fuel_efficiency_mpg</th>\n",
       "    </tr>\n",
       "  </thead>\n",
       "  <tbody>\n",
       "    <tr>\n",
       "      <th>0</th>\n",
       "      <td>170</td>\n",
       "      <td>3.0</td>\n",
       "      <td>159.0</td>\n",
       "      <td>3413.433759</td>\n",
       "      <td>17.7</td>\n",
       "      <td>2003</td>\n",
       "      <td>Europe</td>\n",
       "      <td>Gasoline</td>\n",
       "      <td>All-wheel drive</td>\n",
       "      <td>0.0</td>\n",
       "      <td>13.231729</td>\n",
       "    </tr>\n",
       "    <tr>\n",
       "      <th>1</th>\n",
       "      <td>130</td>\n",
       "      <td>5.0</td>\n",
       "      <td>97.0</td>\n",
       "      <td>3149.664934</td>\n",
       "      <td>17.8</td>\n",
       "      <td>2007</td>\n",
       "      <td>USA</td>\n",
       "      <td>Gasoline</td>\n",
       "      <td>Front-wheel drive</td>\n",
       "      <td>0.0</td>\n",
       "      <td>13.688217</td>\n",
       "    </tr>\n",
       "    <tr>\n",
       "      <th>2</th>\n",
       "      <td>170</td>\n",
       "      <td>NaN</td>\n",
       "      <td>78.0</td>\n",
       "      <td>3079.038997</td>\n",
       "      <td>15.1</td>\n",
       "      <td>2018</td>\n",
       "      <td>Europe</td>\n",
       "      <td>Gasoline</td>\n",
       "      <td>Front-wheel drive</td>\n",
       "      <td>0.0</td>\n",
       "      <td>14.246341</td>\n",
       "    </tr>\n",
       "    <tr>\n",
       "      <th>3</th>\n",
       "      <td>220</td>\n",
       "      <td>4.0</td>\n",
       "      <td>NaN</td>\n",
       "      <td>2542.392402</td>\n",
       "      <td>20.2</td>\n",
       "      <td>2009</td>\n",
       "      <td>USA</td>\n",
       "      <td>Diesel</td>\n",
       "      <td>All-wheel drive</td>\n",
       "      <td>2.0</td>\n",
       "      <td>16.912736</td>\n",
       "    </tr>\n",
       "    <tr>\n",
       "      <th>4</th>\n",
       "      <td>210</td>\n",
       "      <td>1.0</td>\n",
       "      <td>140.0</td>\n",
       "      <td>3460.870990</td>\n",
       "      <td>14.4</td>\n",
       "      <td>2009</td>\n",
       "      <td>Europe</td>\n",
       "      <td>Gasoline</td>\n",
       "      <td>All-wheel drive</td>\n",
       "      <td>2.0</td>\n",
       "      <td>12.488369</td>\n",
       "    </tr>\n",
       "  </tbody>\n",
       "</table>\n",
       "</div>"
      ],
      "text/plain": [
       "   engine_displacement  num_cylinders  horsepower  vehicle_weight  \\\n",
       "0                  170            3.0       159.0     3413.433759   \n",
       "1                  130            5.0        97.0     3149.664934   \n",
       "2                  170            NaN        78.0     3079.038997   \n",
       "3                  220            4.0         NaN     2542.392402   \n",
       "4                  210            1.0       140.0     3460.870990   \n",
       "\n",
       "   acceleration  model_year  origin fuel_type         drivetrain  num_doors  \\\n",
       "0          17.7        2003  Europe  Gasoline    All-wheel drive        0.0   \n",
       "1          17.8        2007     USA  Gasoline  Front-wheel drive        0.0   \n",
       "2          15.1        2018  Europe  Gasoline  Front-wheel drive        0.0   \n",
       "3          20.2        2009     USA    Diesel    All-wheel drive        2.0   \n",
       "4          14.4        2009  Europe  Gasoline    All-wheel drive        2.0   \n",
       "\n",
       "   fuel_efficiency_mpg  \n",
       "0            13.231729  \n",
       "1            13.688217  \n",
       "2            14.246341  \n",
       "3            16.912736  \n",
       "4            12.488369  "
      ]
     },
     "execution_count": 2,
     "metadata": {},
     "output_type": "execute_result"
    }
   ],
   "source": [
    "# read in data and print first 5 rows\n",
    "df = pd.read_csv('https://raw.githubusercontent.com/alexeygrigorev/datasets/master/car_fuel_efficiency.csv')\n",
    "\n",
    "df.head()"
   ]
  },
  {
   "cell_type": "markdown",
   "id": "e2cc76d6",
   "metadata": {},
   "source": [
    "\n",
    "### Q1. Pandas version\n",
    "\n",
    "What's the version of Pandas that you installed?"
   ]
  },
  {
   "cell_type": "code",
   "execution_count": 3,
   "id": "60018c39",
   "metadata": {},
   "outputs": [
    {
     "data": {
      "text/plain": [
       "'2.3.2'"
      ]
     },
     "execution_count": 3,
     "metadata": {},
     "output_type": "execute_result"
    }
   ],
   "source": [
    "### Q1: Pandas version\n",
    "pd.__version__"
   ]
  },
  {
   "cell_type": "markdown",
   "id": "4758ad69",
   "metadata": {},
   "source": [
    "### Q2. Records count\n",
    "\n",
    "How many records are in the dataset?"
   ]
  },
  {
   "cell_type": "code",
   "execution_count": 4,
   "id": "2cbbc39d-1a8f-4ab7-8c8d-585f20de22c5",
   "metadata": {},
   "outputs": [
    {
     "data": {
      "text/plain": [
       "9704"
      ]
     },
     "execution_count": 4,
     "metadata": {},
     "output_type": "execute_result"
    }
   ],
   "source": [
    "### Q2: Records count\n",
    "df.shape[0]"
   ]
  },
  {
   "cell_type": "markdown",
   "id": "7bbf89e9",
   "metadata": {},
   "source": [
    "### Q3. Fuel types\n",
    "\n",
    "How many fuel types are presented in the dataset?"
   ]
  },
  {
   "cell_type": "code",
   "execution_count": 5,
   "id": "5a25c3c1-86fb-4787-8254-f71bec327d07",
   "metadata": {},
   "outputs": [
    {
     "data": {
      "text/plain": [
       "2"
      ]
     },
     "execution_count": 5,
     "metadata": {},
     "output_type": "execute_result"
    }
   ],
   "source": [
    "### Q3: Fuel types\n",
    "df['fuel_type'].nunique()"
   ]
  },
  {
   "cell_type": "markdown",
   "id": "4b1325fd",
   "metadata": {},
   "source": [
    "### Q4. Missing values\n",
    "\n",
    "How many columns in the dataset have missing values?"
   ]
  },
  {
   "cell_type": "code",
   "execution_count": 6,
   "id": "10749320-6d31-4ec8-a308-52b8e7279595",
   "metadata": {},
   "outputs": [
    {
     "name": "stdout",
     "output_type": "stream",
     "text": [
      "Column missing value counts:\n",
      "\n",
      "engine_displacement      0\n",
      "num_cylinders          482\n",
      "horsepower             708\n",
      "vehicle_weight           0\n",
      "acceleration           930\n",
      "model_year               0\n",
      "origin                   0\n",
      "fuel_type                0\n",
      "drivetrain               0\n",
      "num_doors              502\n",
      "fuel_efficiency_mpg      0\n",
      "dtype: int64\n",
      "\n",
      "There are 4 columns with missing values.\n"
     ]
    }
   ],
   "source": [
    "### Q4: Missing values\n",
    "print(\"Column missing value counts:\\n\")\n",
    "print(df.isnull().sum())\n",
    "\n",
    "num_missing_cols = df.isnull().any().sum()\n",
    "print(f\"\\nThere are {num_missing_cols} columns with missing values.\")"
   ]
  },
  {
   "cell_type": "markdown",
   "id": "300431cf",
   "metadata": {},
   "source": [
    "### Q5. Max fuel efficiency\n",
    "\n",
    "What's the maximum fuel efficiency of cars from Asia?"
   ]
  },
  {
   "cell_type": "code",
   "execution_count": 7,
   "id": "39d7eafe-b42b-40b5-b4f6-7a2317000348",
   "metadata": {},
   "outputs": [
    {
     "name": "stdout",
     "output_type": "stream",
     "text": [
      "23.76\n"
     ]
    }
   ],
   "source": [
    "### Q5: Max fuel efficiency\n",
    "# df['origin'].unique()\n",
    "max_fuel_efficiency = df[df['origin'] == 'Asia']['fuel_efficiency_mpg'].max()\n",
    "print(round(max_fuel_efficiency, 2))"
   ]
  },
  {
   "cell_type": "markdown",
   "id": "7f1b22d6",
   "metadata": {},
   "source": [
    "### Q6. Median value of horsepower\n",
    "\n",
    "1. Find the median value of `horsepower` column in the dataset.\n",
    "2. Next, calculate the most frequent value of the same `horsepower` column.\n",
    "3. Use `fillna` method to fill the missing values in `horsepower` column with the most frequent value from the previous step.\n",
    "4. Now, calculate the median value of `horsepower` once again.\n",
    "\n",
    "Has it changed?"
   ]
  },
  {
   "cell_type": "code",
   "execution_count": 8,
   "id": "9f9cab4a-9657-4e9c-a728-475b85f2483f",
   "metadata": {},
   "outputs": [
    {
     "name": "stdout",
     "output_type": "stream",
     "text": [
      "Median: 149.0\n",
      "Mode: 152.0\n",
      "Updated median: 152.0\n"
     ]
    }
   ],
   "source": [
    "### Q6: Median value of horsepower\n",
    "# 1: median\n",
    "horsepower_median = df['horsepower'].median()\n",
    "print(f\"Median: {horsepower_median}\")\n",
    "\n",
    "# 2: mode\n",
    "horsepower_mode = df['horsepower'].mode()[0]\n",
    "print(f\"Mode: {horsepower_mode}\")\n",
    "\n",
    "# 3: replace missing with mode\n",
    "df['horsepower (updated)'] = df['horsepower'].fillna(horsepower_mode)\n",
    "\n",
    "# 4: new horsepower median\n",
    "new_horsepower_median = df['horsepower (updated)'].median()\n",
    "print(f\"Updated median: {new_horsepower_median}\")"
   ]
  },
  {
   "cell_type": "markdown",
   "id": "d3aec1d4",
   "metadata": {},
   "source": [
    "### Q7. Sum of weights\n",
    "\n",
    "1. Select all the cars from Asia\n",
    "2. Select only columns `vehicle_weight` and `model_year`\n",
    "3. Select the first 7 values\n",
    "4. Get the underlying NumPy array. Let's call it `X`.\n",
    "5. Compute matrix-matrix multiplication between the transpose of `X` and `X`. To get the transpose, use `X.T`. Let's call the result `XTX`.\n",
    "6. Invert `XTX`.\n",
    "7. Create an array `y` with values `[1100, 1300, 800, 900, 1000, 1100, 1200]`.\n",
    "8. Multiply the inverse of `XTX` with the transpose of `X`, and then multiply the result by `y`. Call the result `w`.\n",
    "9. What's the sum of all the elements of the result?"
   ]
  },
  {
   "cell_type": "code",
   "execution_count": 9,
   "id": "fbd5f420-4e8a-4207-8617-2a04919a3e97",
   "metadata": {},
   "outputs": [
    {
     "name": "stdout",
     "output_type": "stream",
     "text": [
      "Sum of w: 0.519\n"
     ]
    }
   ],
   "source": [
    "### Q7: Sum of weights\n",
    "# 1: select all cars from Asia\n",
    "asia_cars_df = df[df['origin'] == 'Asia']\n",
    "\n",
    "# 2: select only RAM, Storage, and Screen columns\n",
    "asia_cars_df = asia_cars_df[['vehicle_weight', 'model_year']]\n",
    "\n",
    "# 3: select the first 7 values\n",
    "asia_cars_df = asia_cars_df.head(7)\n",
    "\n",
    "# 4: get underlying numpy array\n",
    "X = asia_cars_df.to_numpy()\n",
    "\n",
    "# 5: compute XTX\n",
    "XTX = X.T @ X\n",
    "\n",
    "# 6: compute the inverse of XTX\n",
    "XTX_inv = np.linalg.inv(XTX)\n",
    "\n",
    "# 7: create the y array\n",
    "y = np.array([1100, 1300, 800, 900, 1000, 1100, 1200])\n",
    "\n",
    "# 8: compute w\n",
    "w = XTX_inv @ X.T @ y\n",
    "\n",
    "# 9: sum all elements of w\n",
    "sum_w = w.sum()\n",
    "print(\"Sum of w:\", f\"{sum_w:.3f}\")"
   ]
  },
  {
   "cell_type": "code",
   "execution_count": 10,
   "id": "b8c4570d-0548-480f-82c2-67a454e2c01d",
   "metadata": {},
   "outputs": [],
   "source": [
    "# vector-vector multiplication function\n",
    "def vector_vector_multiplication(u, v):\n",
    "    assert u.shape[0] == v.shape[0]\n",
    "\n",
    "    n = u.shape[0]\n",
    "\n",
    "    result = 0.0\n",
    "\n",
    "    for i in range(n):\n",
    "        result = result + u[i] * v[i]\n",
    "\n",
    "    return result\n",
    "\n",
    "# matrix-vector multiplication function\n",
    "def matrix_vector_multiplication(U, v):\n",
    "    assert U.shape[1] == v.shape[0]\n",
    "\n",
    "    num_rows = U.shape[0]\n",
    "\n",
    "    result = np.zeros(num_rows)\n",
    "\n",
    "    for i in range(num_rows):\n",
    "        result[i] = vector_vector_multiplication(U[i], v)\n",
    "\n",
    "    return result\n",
    "\n",
    "# matrix-matrix multiplication function\n",
    "def matrix_matrix_multiplication(U, V):\n",
    "    assert U.shape[1] == V.shape[0]\n",
    "\n",
    "    num_rows = U.shape[0]\n",
    "    num_cols = V.shape[1]\n",
    "\n",
    "    result = np.zeros((num_rows, num_cols))\n",
    "\n",
    "    for i in range(num_cols):\n",
    "        vi = V[:, i]\n",
    "        Uvi = matrix_vector_multiplication(U, vi)\n",
    "        result[:, i] = Uvi\n",
    "    \n",
    "    return result"
   ]
  },
  {
   "cell_type": "code",
   "execution_count": 11,
   "id": "b4496689",
   "metadata": {},
   "outputs": [
    {
     "name": "stdout",
     "output_type": "stream",
     "text": [
      "Sum of w: 0.519\n"
     ]
    }
   ],
   "source": [
    "### Sum of weights with manual functions\n",
    "\n",
    "# 5: compute XTX using functions above\n",
    "XTX = matrix_matrix_multiplication(X.T, X)\n",
    "\n",
    "# 6: compute the inverse of XTX\n",
    "XTX_inv = np.linalg.inv(XTX)\n",
    "\n",
    "# 7: create the y array\n",
    "y = np.array([1100, 1300, 800, 900, 1000, 1100, 1200])\n",
    "\n",
    "# 8: compute w using functions above\n",
    "w = matrix_vector_multiplication(matrix_matrix_multiplication(XTX_inv, X.T), y)\n",
    "\n",
    "# 9: sum all elements of w\n",
    "sum_w = w.sum()\n",
    "print(\"Sum of w:\", f\"{sum_w:.3f}\")"
   ]
  },
  {
   "cell_type": "markdown",
   "id": "96f6478b",
   "metadata": {},
   "source": [
    "### Why is this \"linear regression\"?\n",
    "\n",
    "For each column in X, we are trying to determine the optimal value of a **weight** (machine learning term) or **parameter** (statistical term) that solves the following system of linear equations:\n",
    "\n",
    "$$\n",
    "\\mathbf{X} \\, \\boldsymbol{\\beta} = \\mathbf{y}\n",
    "$$\n",
    "\n",
    "#### Matrices with actual data:\n",
    "\n",
    "The **design matrix** $ \\mathbf{X} $ (7 × 2) is:\n",
    "\n",
    "$$\n",
    "\\mathbf{X} =\n",
    "\\begin{bmatrix}\n",
    "2714.219 & 2016 \\\\\n",
    "2783.869 & 2010 \\\\\n",
    "3582.687 & 2007 \\\\\n",
    "2231.808 & 2011 \\\\\n",
    "2659.431 & 2016 \\\\\n",
    "2844.228 & 2014 \\\\\n",
    "3761.994 & 2019\n",
    "\\end{bmatrix}\n",
    "$$\n",
    "\n",
    "The **coefficient vector** $ \\boldsymbol{\\beta} $ (2 × 1) is:\n",
    "\n",
    "$$\n",
    "\\boldsymbol{\\beta} =\n",
    "\\begin{bmatrix}\n",
    "\\beta_1 \\\\\n",
    "\\beta_2\n",
    "\\end{bmatrix}\n",
    "$$\n",
    "\n",
    "The **target vector** \\( \\mathbf{y} \\) (7 × 1) is:\n",
    "\n",
    "$$\n",
    "\\mathbf{y} =\n",
    "\\begin{bmatrix}\n",
    "1100 \\\\\n",
    "1300 \\\\\n",
    "800 \\\\\n",
    "900 \\\\\n",
    "1000 \\\\\n",
    "1100 \\\\\n",
    "1200\n",
    "\\end{bmatrix}\n",
    "$$\n",
    "\n",
    "---\n",
    "\n",
    "Typically there is no exact solution because the system is **overdetermined** ($n > p$).  \n",
    "A very good solution is the **ordinary least squares (OLS) solution**, which minimizes the sum of squared residuals:\n",
    "\n",
    "$$\n",
    "\\hat{\\beta} = \\arg \\min_{\\beta} \\| \\mathbf{y} - \\mathbf{X}\\beta \\|^2\n",
    "$$\n",
    "\n",
    "This solution satisfies the **normal equation**:\n",
    "\n",
    "$$\n",
    "(X^\\top X) \\, \\hat{\\beta} = X^\\top \\mathbf{y}\n",
    "$$\n",
    "\n",
    "where $X^\\top X$ is the **normal matrix**, $X^\\top y$ is the **moment matrix**, and $\\hat{\\beta}$ is the **least-squares coefficient vector**:\n",
    "\n",
    "$$\n",
    "\\hat{\\beta} = (X^\\top X)^{-1} X^\\top \\mathbf{y}\n",
    "$$\n",
    "\n",
    "---\n",
    "\n",
    "We can confirm this with scikit-learn's OLS:"
   ]
  },
  {
   "cell_type": "code",
   "execution_count": 12,
   "id": "97c6173c",
   "metadata": {},
   "outputs": [
    {
     "name": "stdout",
     "output_type": "stream",
     "text": [
      "OLS (sklearn) weights: [0.01386421 0.5049067 ]\n",
      "Weights from normal equations: [0.01386421 0.5049067 ]\n"
     ]
    }
   ],
   "source": [
    "from sklearn.linear_model import LinearRegression\n",
    "\n",
    "ols = LinearRegression(fit_intercept=False)\n",
    "ols.fit(X, y)\n",
    "w_sklearn = ols.coef_\n",
    "\n",
    "print(\"OLS (sklearn) weights:\", w_sklearn)\n",
    "print(\"Weights from normal equations:\", w)"
   ]
  },
  {
   "cell_type": "code",
   "execution_count": null,
   "id": "1c293e34",
   "metadata": {},
   "outputs": [],
   "source": []
  }
 ],
 "metadata": {
  "kernelspec": {
   "display_name": "venv",
   "language": "python",
   "name": "python3"
  },
  "language_info": {
   "codemirror_mode": {
    "name": "ipython",
    "version": 3
   },
   "file_extension": ".py",
   "mimetype": "text/x-python",
   "name": "python",
   "nbconvert_exporter": "python",
   "pygments_lexer": "ipython3",
   "version": "3.13.7"
  }
 },
 "nbformat": 4,
 "nbformat_minor": 5
}
